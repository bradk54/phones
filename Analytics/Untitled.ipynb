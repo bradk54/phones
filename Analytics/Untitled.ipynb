{
 "cells": [
  {
   "cell_type": "code",
   "execution_count": 1,
   "metadata": {},
   "outputs": [],
   "source": [
    "# import modin.pandas as pd\n",
    "import pandas as pd\n",
    "import numpy as np\n",
    "from Utilities.dataimport import ImportData\n",
    "from Utilities.models import countVectorizorByCategory\n",
    "import dateparser as dp\n",
    "\n",
    "output_files = '/Users/bradkittrell/Desktop/smartphones/brands'\n",
    "data = ImportData(output_files)\n",
    "df = data.combineCSV().drop_duplicates(subset='title')\n",
    "df.to_csv('df.csv')\n",
    "\n",
    "#extensive date cleaning is required for the release date. that is handled here\n",
    "#generate features with regex\n",
    "import time\n",
    "import datetime as dt\n",
    "today = dt.datetime.now()\n",
    "date_dictionary = {'Q1':'January','Q2':'April','Q3':'July','Q4':'September','3Q':'July','Sep':'September','Oct':'October'}\n",
    "\n",
    "df.released = df.released.str.replace(r'(\\w.+(Released ))',\"\")\n",
    "df.released = df.released.str.replace(r'((Exp\\. announcement ))',\"\")\n",
    "df.released = df.released.str.replace(r'((Not).*)',\"\")\n",
    "df['releaseYear'] = df.released.str.extract(r'(\\d+)')\n",
    "df['releaseMonth'] = df.released.str.extract(r'((?<=\\, )\\w+)')\n",
    "\n",
    "df.replace({'releaseMonth': date_dictionary},inplace=True)\n",
    "df['released'] = pd.to_datetime(df.releaseYear+\" \"+df.releaseMonth,format='%Y %B')\n",
    "df['ageInYears'] = (today-df.released)/np.timedelta64(1,'Y')\n",
    "\n",
    "#generate features with regex\n",
    "import re\n",
    "import time\n",
    "import datetime as dt\n",
    "today = dt.datetime.now()\n",
    "\"\"\"\n",
    "extract data from the scraped columns using regex\n",
    "\n",
    "\"\"\"\n",
    "df['lowPrice'] = df.basePrice.str.replace(r'(\\u2009)|(\\,)',\"\")\n",
    "\n",
    "df['lowPriceUSD'] = df.lowPrice.str.extract(r'((?<=\\$)\\w+.\\d+)').astype('float64').fillna(0)\n",
    "df['batteryEnergy'] = df.batterySize.str.extract(r'(\\d+)').astype('float64').fillna(0)\n",
    "df['frontCameraMP'] = df.frontCamera.str.extract(r'(\\d+(?=\\sMP))').astype('float64').fillna(0)\n",
    "df['memory'] = df.memory.str.replace(r'(\\((.*?)\\))',\"\")\n",
    "df['pricing'] = df.pricing.str.replace(r'((\\xE2)..)','')\n",
    "# df['memory'] = df.memory.str.replace(r'(.\\w+.(RAM)|\\w+.\\w+.(RAM)|.\\w+.(ROM))',\"\")\n",
    "# df['memory'] = df.memory.str.replace(r'(\\w.*(\\/)\\w+)',\"\")\n",
    "df['baseCapacitySize'] = df.memory.str.extract(r'(\\d+)')[0].astype('float64').fillna(0)\n",
    "df['operatingSystem'] = df.opSys.str.extract(r'(\\w+)')[0]\n",
    "df['screenSize'] = df.screen.str.extract(r'(\\d+(\\.\\d))')[0].astype('float64').fillna(0)\n",
    "df['screenBodyRatio'] = df.screen.str.extract(r'(\\d+\\.\\d(?=\\%))')[0].astype('float64').fillna(0)\n",
    "df['brand'] = df.title.str.extract(r'(\\w+)')[0].astype(str)\n",
    "df['rearCameraCleaned'] = df.rearCamera.str.replace(r'((\\u2424|\\\\r)|\\((.*?)\\))',\" \")\n",
    "df['numberOfRearLenses'] = df.rearCameraCleaned.str.count('MP')\n",
    "df['rearCameraPrimaryMP'] = df.rearCameraCleaned.str.extract(r'(\\d+.(?=MP))').astype('float64').fillna(0)\n",
    "df['rearCameraMPList'] = df.rearCameraCleaned.str.findall(r'(\\d+.(?=MP))')"
   ]
  },
  {
   "cell_type": "code",
   "execution_count": 2,
   "metadata": {},
   "outputs": [
    {
     "name": "stderr",
     "output_type": "stream",
     "text": [
      "/anaconda3/lib/python3.7/site-packages/ipykernel_launcher.py:2: SettingWithCopyWarning: \n",
      "A value is trying to be set on a copy of a slice from a DataFrame.\n",
      "Try using .loc[row_indexer,col_indexer] = value instead\n",
      "\n",
      "See the caveats in the documentation: http://pandas.pydata.org/pandas-docs/stable/user_guide/indexing.html#returning-a-view-versus-a-copy\n",
      "  \n"
     ]
    }
   ],
   "source": [
    "modeling_df = df.dropna(subset=['releaseYear','sensors'])\n",
    "modeling_df['releaseYear']=modeling_df.releaseYear.astype(str)\n",
    "\n",
    "categories = countVectorizorByCategory(modeling_df,'sensors','releaseYear',tfidf=False)\n",
    "\n",
    "categories.to_csv('vectorCategories.csv',index_label='index')"
   ]
  },
  {
   "cell_type": "code",
   "execution_count": 3,
   "metadata": {},
   "outputs": [],
   "source": [
    "#get top five\n",
    "def returnBestbyCategory(dataframe,category,count,top):\n",
    "    initial_df = pd.DataFrame(columns=dataframe.columns)\n",
    "    category_unique = dataframe[category].unique()\n",
    "\n",
    "    for cat in category_unique:\n",
    "        filtered_df = dataframe[dataframe[category]==cat]\n",
    "        filtered_df = filtered_df.sort_values(by=[count],ascending=False)\n",
    "        filtered_df = filtered_df.head(top)\n",
    "        initial_df = initial_df.append(filtered_df,ignore_index=True)\n",
    "    return initial_df\n",
    "\n",
    "cleaned_categories = categories[~categories['category'].isin(['2000','2002','2003','2005','2007'])]\n",
    "\n",
    "\n",
    "topFiveFeatures = returnBestbyCategory(cleaned_categories,'category','count',5)\n"
   ]
  },
  {
   "cell_type": "code",
   "execution_count": 17,
   "metadata": {},
   "outputs": [
    {
     "data": {
      "image/png": "[encoded data removed]",
      "text/plain": [
       "<Figure size 1152x432 with 1 Axes>"
      ]
     },
     "metadata": {},
     "output_type": "display_data"
    }
   ],
   "source": [
    "import matplotlib.pyplot as plt\n",
    "import seaborn as sns\n",
    "sns.set_style('darkgrid')\n",
    "plt.figure(figsize=(16,6))\n",
    "\n",
    "sorted_df = topFiveFeatures.sort_values(by=['category'])\n",
    "sorted_df['yearNumeric'] = pd.to_numeric(sorted_df.category,errors='coerce')\n",
    "# sns.scatterplot(x='category',y='count',hue='feature',data=sorted_for_plot_df )\n",
    "plt.plot(sorted_df['yearNumeric'],sorted_df['count'])\n",
    "plt.show()"
   ]
  },
  {
   "cell_type": "code",
   "execution_count": null,
   "metadata": {},
   "outputs": [],
   "source": []
  },
  {
   "cell_type": "code",
   "execution_count": null,
   "metadata": {},
   "outputs": [],
   "source": []
  }
 ],
 "metadata": {
  "kernelspec": {
   "display_name": "Python 3",
   "language": "python",
   "name": "python3"
  },
  "language_info": {
   "codemirror_mode": {
    "name": "ipython",
    "version": 3
   },
   "file_extension": ".py",
   "mimetype": "text/x-python",
   "name": "python",
   "nbconvert_exporter": "python",
   "pygments_lexer": "ipython3",
   "version": "3.7.3"
  }
 },
 "nbformat": 4,
 "nbformat_minor": 2
}
